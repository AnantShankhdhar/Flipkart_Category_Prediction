{
  "nbformat": 4,
  "nbformat_minor": 0,
  "metadata": {
    "colab": {
      "name": "LSTM_sampling.ipynb",
      "provenance": [],
      "include_colab_link": true
    },
    "kernelspec": {
      "name": "python3",
      "display_name": "Python 3"
    },
    "language_info": {
      "name": "python"
    },
    "accelerator": "GPU"
  },
  "cells": [
    {
      "cell_type": "markdown",
      "metadata": {
        "id": "view-in-github",
        "colab_type": "text"
      },
      "source": [
        "<a href=\"https://colab.research.google.com/github/AnantShankhdhar/Flipkart_Category_Prediction/blob/master/LSTM_sampling.ipynb\" target=\"_parent\"><img src=\"https://colab.research.google.com/assets/colab-badge.svg\" alt=\"Open In Colab\"/></a>"
      ]
    },
    {
      "cell_type": "markdown",
      "metadata": {
        "id": "fkCHtSde6M_E"
      },
      "source": [
        "# Flipkart Product Category Classification "
      ]
    },
    {
      "cell_type": "markdown",
      "metadata": {
        "id": "G04E9fvO6jLb"
      },
      "source": [
        "## Loading Libraries "
      ]
    },
    {
      "cell_type": "code",
      "metadata": {
        "id": "9GdEA-KNaspV"
      },
      "source": [
        "import gensim.models.keyedvectors as word2vec #need to use due to depreceated model\n",
        "from nltk.tokenize import RegexpTokenizer\n",
        "\n",
        "from keras.models import Sequential\n",
        "from keras.layers.core import Dense, Dropout\n",
        "from keras.layers.embeddings import Embedding\n",
        "from keras.preprocessing.sequence import pad_sequences\n",
        "from keras.preprocessing.text import Tokenizer\n",
        "from keras.layers import LSTM\n",
        "import tensorflow as tf\n",
        "import numpy as np\n",
        "import pandas as pd\n",
        "import matplotlib.pyplot as plt\n",
        "\n",
        "from sklearn.model_selection import train_test_split\n",
        "from sklearn.metrics import confusion_matrix, roc_curve,  roc_auc_score, classification_report\n",
        "\n",
        "\n",
        "import logging\n"
      ],
      "execution_count": null,
      "outputs": []
    },
    {
      "cell_type": "code",
      "metadata": {
        "colab": {
          "base_uri": "https://localhost:8080/"
        },
        "id": "UX2F1cPuc-Ng",
        "outputId": "10dd575c-1882-411b-e1eb-f0cc1cb01bb5"
      },
      "source": [
        "%cd drive/MyDrive/MIDAS_task"
      ],
      "execution_count": null,
      "outputs": [
        {
          "output_type": "stream",
          "text": [
            "/content/drive/MyDrive/MIDAS_task\n"
          ],
          "name": "stdout"
        }
      ]
    },
    {
      "cell_type": "markdown",
      "metadata": {
        "id": "7zAXJeeD7OO_"
      },
      "source": [
        "## Loading the Dataset"
      ]
    },
    {
      "cell_type": "code",
      "metadata": {
        "colab": {
          "base_uri": "https://localhost:8080/",
          "height": 204
        },
        "id": "6beaQqfUcVQc",
        "outputId": "c64fa56d-6779-4fb0-f185-932ef4d800c8"
      },
      "source": [
        "np.random.seed(42)\n",
        "df = pd.read_csv('outfinal1.csv') \n",
        "df.head()\n"
      ],
      "execution_count": null,
      "outputs": [
        {
          "output_type": "execute_result",
          "data": {
            "text/html": [
              "<div>\n",
              "<style scoped>\n",
              "    .dataframe tbody tr th:only-of-type {\n",
              "        vertical-align: middle;\n",
              "    }\n",
              "\n",
              "    .dataframe tbody tr th {\n",
              "        vertical-align: top;\n",
              "    }\n",
              "\n",
              "    .dataframe thead th {\n",
              "        text-align: right;\n",
              "    }\n",
              "</style>\n",
              "<table border=\"1\" class=\"dataframe\">\n",
              "  <thead>\n",
              "    <tr style=\"text-align: right;\">\n",
              "      <th></th>\n",
              "      <th>product_category_tree</th>\n",
              "      <th>description</th>\n",
              "      <th>label</th>\n",
              "    </tr>\n",
              "  </thead>\n",
              "  <tbody>\n",
              "    <tr>\n",
              "      <th>0</th>\n",
              "      <td>clothing</td>\n",
              "      <td>key feature alisha solid women cycling short c...</td>\n",
              "      <td>0</td>\n",
              "    </tr>\n",
              "    <tr>\n",
              "      <th>1</th>\n",
              "      <td>furniture</td>\n",
              "      <td>fabhomedecor fabric double sofa bed finish col...</td>\n",
              "      <td>1</td>\n",
              "    </tr>\n",
              "    <tr>\n",
              "      <th>2</th>\n",
              "      <td>footwear</td>\n",
              "      <td>key feature aw belly sandal wedge heel casuals...</td>\n",
              "      <td>2</td>\n",
              "    </tr>\n",
              "    <tr>\n",
              "      <th>3</th>\n",
              "      <td>clothing</td>\n",
              "      <td>key feature alisha solid women cycling short c...</td>\n",
              "      <td>0</td>\n",
              "    </tr>\n",
              "    <tr>\n",
              "      <th>4</th>\n",
              "      <td>pet supplies</td>\n",
              "      <td>specification sicon purpose arnica shampoo ml ...</td>\n",
              "      <td>3</td>\n",
              "    </tr>\n",
              "  </tbody>\n",
              "</table>\n",
              "</div>"
            ],
            "text/plain": [
              "  product_category_tree  ... label\n",
              "0              clothing  ...     0\n",
              "1             furniture  ...     1\n",
              "2              footwear  ...     2\n",
              "3              clothing  ...     0\n",
              "4          pet supplies  ...     3\n",
              "\n",
              "[5 rows x 3 columns]"
            ]
          },
          "metadata": {
            "tags": []
          },
          "execution_count": 3
        }
      ]
    },
    {
      "cell_type": "markdown",
      "metadata": {
        "id": "T2074aRN8CFr"
      },
      "source": [
        "## Tackling Class Imbalance \n",
        "Since the no. of samples for all labels are not the same so the contribution of some classes in lost function is more than the other in the basic model that I developed.<br>  \n",
        "In ordered to take care of that issue we are using a weighted loss function, where classes which have les samples have heigher weights, these weights are generated using the frequency of the samples by creating a weight_list\n"
      ]
    },
    {
      "cell_type": "code",
      "metadata": {
        "colab": {
          "base_uri": "https://localhost:8080/",
          "height": 798
        },
        "id": "VfaI9sZQdb9Z",
        "outputId": "94e212e5-3aba-427d-f784-96cf2d174826"
      },
      "source": [
        "weight_list = dict()\n",
        "descriptions = df['description']\n",
        "labels = df['label']\n",
        "labels_count = labels.value_counts()\n",
        "labels_count.plot(kind=\"bar\")\n",
        "print(labels.value_counts())\n",
        "for index,value in labels_count.items():\n",
        "    weight_list[index] = value\n",
        "print(weight_list)"
      ],
      "execution_count": null,
      "outputs": [
        {
          "output_type": "stream",
          "text": [
            "0     6197\n",
            "16    3531\n",
            "2     1227\n",
            "13    1099\n",
            "9     1012\n",
            "8      929\n",
            "6      710\n",
            "11     699\n",
            "18     647\n",
            "20     578\n",
            "14     530\n",
            "12     483\n",
            "10     391\n",
            "27     342\n",
            "15     330\n",
            "4      313\n",
            "7      265\n",
            "1      180\n",
            "5      166\n",
            "21      82\n",
            "24      81\n",
            "22      43\n",
            "17      40\n",
            "23      35\n",
            "3       30\n",
            "19      24\n",
            "25      19\n",
            "26      15\n",
            "Name: label, dtype: int64\n",
            "{0: 6197, 16: 3531, 2: 1227, 13: 1099, 9: 1012, 8: 929, 6: 710, 11: 699, 18: 647, 20: 578, 14: 530, 12: 483, 10: 391, 27: 342, 15: 330, 4: 313, 7: 265, 1: 180, 5: 166, 21: 82, 24: 81, 22: 43, 17: 40, 23: 35, 3: 30, 19: 24, 25: 19, 26: 15}\n"
          ],
          "name": "stdout"
        },
        {
          "output_type": "display_data",
          "data": {
            "image/png": "[encoded data removed]",
            "text/plain": [
              "<Figure size 432x288 with 1 Axes>"
            ]
          },
          "metadata": {
            "tags": [],
            "needs_background": "light"
          }
        }
      ]
    },
    {
      "cell_type": "markdown",
      "metadata": {
        "id": "SwZfq7Mq9jBY"
      },
      "source": [
        "## Tokenization"
      ]
    },
    {
      "cell_type": "code",
      "metadata": {
        "colab": {
          "base_uri": "https://localhost:8080/"
        },
        "id": "GoPp5e5si8S0",
        "outputId": "7aeee6cb-c466-4f24-f225-554827f47441"
      },
      "source": [
        "description_split = []\n",
        "tkr = RegexpTokenizer('[a-zA-Z@]+')\n",
        "for i, line in enumerate(descriptions):\n",
        "    #print(line)\n",
        "    description = str(line)\n",
        "    description = tkr.tokenize(str(description))\n",
        "    description_split.append(description)\n",
        "\n",
        "print(description_split[1])"
      ],
      "execution_count": null,
      "outputs": [
        {
          "output_type": "stream",
          "text": [
            "['fabhomedecor', 'fabric', 'double', 'sofa', 'bed', 'finish', 'color', 'leatherette', 'black', 'mechanism', 'type', 'pull', 'price', 'rs', 'fine', 'deep', 'seating', 'experience', 'save', 'space', 'new', 'click', 'clack', 'sofa', 'bed', 'easy', 'fold', 'vice', 'versa', 'simple', 'click', 'clack', 'mechanism', 'chrome', 'leg', 'mango', 'wood', 'frame', 'long', 'term', 'durability', 'double', 'cushioned', 'sofa', 'bed', 'provide', 'extra', 'softness', 'make', 'fine', 'seating', 'experience', 'double', 'bed', 'easily', 'sleep', 'twospecification', 'fabhomedecor', 'fabric', 'double', 'sofa', 'bed', 'finish', 'color', 'leatherette', 'black', 'mechanism', 'type', 'pull', 'installation', 'demo', 'installation', 'demo', 'detail', 'installation', 'demo', 'product', 'do', 'free', 'cost', 'part', 'purchase', 'service', 'partner', 'visit', 'location', 'within', 'business', 'hour', 'delivery', 'product', 'box', 'sofa', 'bed', 'general', 'brand', 'fabhomedecor', 'mattress', 'include', 'delivery', 'condition', 'knock', 'storage', 'include', 'mechanism', 'type', 'pull', 'type', 'sofa', 'bed', 'style', 'contemporary', 'modern', 'filling', 'material', 'microfiber', 'seating', 'capacity', 'seater', 'upholstery', 'type', 'upholstery', 'include', 'bed', 'size', 'double', 'shape', 'square', 'suitable', 'living', 'room', 'model', 'number', 'fhd', 'instruction', 'avoid', 'outdoor', 'use', 'exposure', 'water', 'prolong', 'moisture', 'avoid', 'exposure', 'direct', 'heat', 'sunlight', 'cause', 'sofa', 'colour', 'fade', 'keep', 'sharp', 'object', 'away', 'sofa', 'little', 'tear', 'fabric', 'cover', 'may', 'hard', 'repair', 'vacuum', 'sofas', 'periodically', 'soft', 'bristled', 'bruview', 'avoid', 'outdoor', 'use', 'exposure', 'water', 'prolong', 'moisture', 'avoid', 'exposure', 'direct', 'heat', 'sunlight', 'cause', 'sofa', 'colour', 'fade', 'keep', 'sharp', 'object', 'away', 'sofa', 'little', 'tear', 'fabric', 'cover', 'may', 'hard', 'repair', 'vacuum', 'sofas', 'periodically', 'soft', 'bristled', 'brush', 'attachment', 'lightly', 'brush', 'keep', 'general', 'dirt', 'dust', 'sofa', 'prevent', 'embed', 'fibre', 'try', 'avoid', 'food', 'drink', 'spillage', 'kind', 'spill', 'occur', 'leave', 'unattended', 'case', 'stain', 'waterfree', 'fabric', 'cleaner', 'use', 'however', 'avoid', 'apply', 'cleaner', 'directly', 'stain', 'cause', 'damage', 'fabric', 'fade', 'colour', 'clean', 'onto', 'clean', 'cloth', 'test', 'effect', 'hide', 'area', 'sofa', 'cleaning', 'stain', 'cloth', 'professional', 'scotchguard', 'treatment', 'easy', 'effective', 'option', 'protect', 'spill', 'stain', 'keep', 'hair', 'bay', 'get', 'sofa', 'professionally', 'clean', 'every', 'month', 'nook', 'corner', 'ca', 'nt', 'reach', 'make', 'durable', 'finish', 'type', 'matte', 'important', 'note', 'cancellation', 'allow', 'product', 'hrs', 'order', 'book', 'warranty', 'cover', 'warranty', 'warranty', 'cover', 'kind', 'manufacture', 'defect', 'concerned', 'product', 'either', 'repair', 'replace', 'base', 'discretion', 'service', 'type', 'manufacturer', 'warranty', 'warranty', 'summary', 'month', 'domestic', 'warranty', 'cover', 'warranty', 'warranty', 'cover', 'improper', 'handling', 'dimension', 'weight', 'kg', 'height', 'mm', 'width', 'mm', 'depth', 'mm', 'disclaimer', 'color', 'product', 'may', 'vary', 'slightly', 'compare', 'picture', 'display', 'screen', 'due', 'lighting', 'pixel', 'quality', 'color', 'setting', 'please', 'check', 'product', 'dimension', 'ensure', 'product', 'fit', 'desire', 'location', 'check', 'product', 'fit', 'throughview', 'color', 'product', 'may', 'vary', 'slightly', 'compare', 'picture', 'display', 'screen', 'due', 'lighting', 'pixel', 'quality', 'color', 'setting', 'please', 'check', 'product', 'dimension', 'ensure', 'product', 'fit', 'desire', 'location', 'check', 'product', 'fit', 'entrance', 'door', 'premise', 'please', 'expect', 'unevenness', 'mm', 'product', 'due', 'difference', 'surface', 'floor', 'level', 'flipkart', 'seller', 'deliver', 'product', 'type', 'civil', 'work', 'drilling', 'hole', 'wall', 'mount', 'product', 'product', 'assemble', 'case', 'carpentry', 'assembly', 'require', 'case', 'product', 'appear', 'lack', 'shine', 'wipe', 'surface', 'cloth', 'help', 'clear', 'surface', 'dust', 'particle', 'material', 'color', 'upholstery', 'color', 'leatherette', 'black', 'primary', 'color', 'black', 'primary', 'material', 'fabric', 'secondary', 'material', 'subtype', 'mango', 'wood', 'secondary', 'material', 'foam', 'finish', 'color', 'leatherette', 'black', 'primary', 'material', 'subtype', 'foam']\n"
          ],
          "name": "stdout"
        }
      ]
    },
    {
      "cell_type": "markdown",
      "metadata": {
        "id": "25cXYqaI9lbt"
      },
      "source": [
        "## Loading Word2vec model"
      ]
    },
    {
      "cell_type": "code",
      "metadata": {
        "id": "Gye21rdLl305"
      },
      "source": [
        "w2vModel = word2vec.KeyedVectors.load_word2vec_format('GoogleNews-vectors-negative300.bin', binary=True, limit=100000)\n"
      ],
      "execution_count": null,
      "outputs": []
    },
    {
      "cell_type": "markdown",
      "metadata": {
        "id": "u8K0OOj-9p4V"
      },
      "source": [
        "## Building the Model \n",
        "\n",
        "The layers are the same as in the basic model, but we have updated the loss function. "
      ]
    },
    {
      "cell_type": "code",
      "metadata": {
        "id": "WkPoOAuqmNpf",
        "colab": {
          "base_uri": "https://localhost:8080/"
        },
        "outputId": "23df274a-9d86-419b-d24a-2c0cd86e2108"
      },
      "source": [
        "tokenizer = Tokenizer()\n",
        "tokenizer.fit_on_texts(description_split)\n",
        "X = tokenizer.texts_to_sequences(description_split)\n",
        "\n",
        "#lenght of tweet to consider\n",
        "MAX_LENGTH = 300\n",
        "#add padding\n",
        "X = pad_sequences(X, maxlen=MAX_LENGTH)\n",
        "print(X.shape)\n",
        "\n",
        "#create a embedding layer using Google pre triained word2vec (50000 words)\n",
        "embedding_layer = Embedding(input_dim=w2vModel.syn0.shape[0], output_dim=w2vModel.syn0.shape[1], weights=[w2vModel.syn0], \n",
        "                            input_length=X.shape[1])\n",
        "\n",
        "#create model\n",
        "\n",
        "\n",
        "model = Sequential()\n",
        "model.add(embedding_layer)\n",
        "model.add(LSTM(units=300))\n",
        "model.add(Dense(28, activation='softmax'))\n",
        "model.compile(loss='SparseCategoricalCrossentropy', optimizer='adam', metrics=['accuracy'])\n",
        "print(model.summary())"
      ],
      "execution_count": null,
      "outputs": [
        {
          "output_type": "stream",
          "text": [
            "(19998, 300)\n"
          ],
          "name": "stdout"
        },
        {
          "output_type": "stream",
          "text": [
            "/usr/local/lib/python3.7/dist-packages/ipykernel_launcher.py:12: DeprecationWarning: Call to deprecated `syn0` (Attribute will be removed in 4.0.0, use self.wv.vectors instead).\n",
            "  if sys.path[0] == '':\n"
          ],
          "name": "stderr"
        },
        {
          "output_type": "stream",
          "text": [
            "Model: \"sequential\"\n",
            "_________________________________________________________________\n",
            "Layer (type)                 Output Shape              Param #   \n",
            "=================================================================\n",
            "embedding (Embedding)        (None, 300, 300)          30000000  \n",
            "_________________________________________________________________\n",
            "lstm (LSTM)                  (None, 300)               721200    \n",
            "_________________________________________________________________\n",
            "dense (Dense)                (None, 28)                8428      \n",
            "=================================================================\n",
            "Total params: 30,729,628\n",
            "Trainable params: 30,729,628\n",
            "Non-trainable params: 0\n",
            "_________________________________________________________________\n",
            "None\n"
          ],
          "name": "stdout"
        }
      ]
    },
    {
      "cell_type": "markdown",
      "metadata": {
        "id": "fgd4vlMK93WB"
      },
      "source": [
        "## Train-Test-Validtion Split"
      ]
    },
    {
      "cell_type": "code",
      "metadata": {
        "colab": {
          "base_uri": "https://localhost:8080/"
        },
        "id": "UJWX8kQ5_KfS",
        "outputId": "98f3ec5b-5544-4316-e7e6-49b9a8f261e9"
      },
      "source": [
        "X_train, X_test, Y_train, Y_test = train_test_split(X, labels, test_size= 0.1, random_state = 24)\n",
        "X_val, X_test, Y_val, Y_test = train_test_split(X_test,Y_test,test_size = 0.5, random_state = 24)\n",
        "\n",
        "X_val.shape"
      ],
      "execution_count": null,
      "outputs": [
        {
          "output_type": "execute_result",
          "data": {
            "text/plain": [
              "(1000, 300)"
            ]
          },
          "metadata": {
            "tags": []
          },
          "execution_count": 8
        }
      ]
    },
    {
      "cell_type": "markdown",
      "metadata": {
        "id": "VM98dywU-E8j"
      },
      "source": [
        "## Training the model "
      ]
    },
    {
      "cell_type": "code",
      "metadata": {
        "colab": {
          "base_uri": "https://localhost:8080/"
        },
        "id": "wrEY_tf2BhTo",
        "outputId": "722a9258-089c-4bc4-e527-6a3d9d89be96"
      },
      "source": [
        "batch_size = 32\n",
        "checkpoint_filepath = 'model_LSTM2.h5'\n",
        "model_checkpoint_callback = tf.keras.callbacks.ModelCheckpoint(\n",
        "    filepath=checkpoint_filepath,\n",
        "    save_weights_only=True,\n",
        "    monitor='val_accuracy',\n",
        "    mode='max',\n",
        "    save_best_only=True)\n",
        "model.fit(X_train, Y_train, epochs=10, verbose=1, batch_size=batch_size,callbacks = [model_checkpoint_callback],validation_data = (X_val,Y_val),class_weight = weight_list)"
      ],
      "execution_count": null,
      "outputs": [
        {
          "output_type": "stream",
          "text": [
            "Epoch 1/10\n",
            "563/563 [==============================] - 263s 413ms/step - loss: 1913.7099 - accuracy: 0.5159 - val_loss: 0.6504 - val_accuracy: 0.8510\n",
            "Epoch 2/10\n",
            "563/563 [==============================] - 230s 409ms/step - loss: 284.1543 - accuracy: 0.8414 - val_loss: 0.5031 - val_accuracy: 0.8870\n",
            "Epoch 3/10\n",
            "563/563 [==============================] - 225s 400ms/step - loss: 133.7266 - accuracy: 0.9101 - val_loss: 0.3047 - val_accuracy: 0.9270\n",
            "Epoch 4/10\n",
            "563/563 [==============================] - 221s 393ms/step - loss: 88.4596 - accuracy: 0.9365 - val_loss: 0.2652 - val_accuracy: 0.9410\n",
            "Epoch 5/10\n",
            "563/563 [==============================] - 222s 395ms/step - loss: 48.4492 - accuracy: 0.9560 - val_loss: 0.2809 - val_accuracy: 0.9270\n",
            "Epoch 6/10\n",
            "563/563 [==============================] - 222s 394ms/step - loss: 43.0394 - accuracy: 0.9668 - val_loss: 0.3046 - val_accuracy: 0.9260\n",
            "Epoch 7/10\n",
            "563/563 [==============================] - 222s 394ms/step - loss: 36.9241 - accuracy: 0.9706 - val_loss: 0.2488 - val_accuracy: 0.9400\n",
            "Epoch 8/10\n",
            "563/563 [==============================] - 219s 389ms/step - loss: 24.7431 - accuracy: 0.9772 - val_loss: 0.2430 - val_accuracy: 0.9420\n",
            "Epoch 9/10\n",
            "563/563 [==============================] - 221s 393ms/step - loss: 18.5714 - accuracy: 0.9809 - val_loss: 0.2798 - val_accuracy: 0.9370\n",
            "Epoch 10/10\n",
            "563/563 [==============================] - 221s 392ms/step - loss: 19.5320 - accuracy: 0.9845 - val_loss: 0.2666 - val_accuracy: 0.9380\n"
          ],
          "name": "stdout"
        },
        {
          "output_type": "execute_result",
          "data": {
            "text/plain": [
              "<tensorflow.python.keras.callbacks.History at 0x7fbe3088dd90>"
            ]
          },
          "metadata": {
            "tags": []
          },
          "execution_count": 9
        }
      ]
    },
    {
      "cell_type": "code",
      "metadata": {
        "colab": {
          "base_uri": "https://localhost:8080/"
        },
        "id": "e0hhGx9jCvSH",
        "outputId": "b1063dd4-a707-44df-be59-e59545471f5a"
      },
      "source": [
        "\n",
        "model.load_weights('model_LSTM2.h5')\n",
        "score, acc = model.evaluate(X_test, Y_test, verbose = 1, batch_size=batch_size)\n",
        "y_pred = np.argmax(model.predict(X_test),axis=1)"
      ],
      "execution_count": null,
      "outputs": [
        {
          "output_type": "stream",
          "text": [
            "32/32 [==============================] - 1s 36ms/step - loss: 0.2876 - accuracy: 0.9400\n"
          ],
          "name": "stdout"
        }
      ]
    },
    {
      "cell_type": "markdown",
      "metadata": {
        "id": "6aivP4pw-KTx"
      },
      "source": [
        "## Performanc Evaluation\n",
        "We have used Accuracy, Precision. Recall and F1 Score. <br>\n",
        "We can see that the performance has improved by using the Weighted Loss Function. "
      ]
    },
    {
      "cell_type": "code",
      "metadata": {
        "colab": {
          "base_uri": "https://localhost:8080/"
        },
        "id": "3MW3GSQGCw9U",
        "outputId": "fcb7f938-4eee-4eec-ea96-cb4b7dfb326b"
      },
      "source": [
        "class_names = ['clothing', 'furniture', 'footwear', 'pet supplies', 'pens & stationery', 'sports & fitness', 'beauty and personal care', 'bags, wallets & belts', 'home decor & festive needs', 'automotive', 'tools & hardware', 'home furnishing', 'baby care', 'mobiles & accessories', 'watches', 'toys & school supplies', 'jewellery', 'sunglasses', 'kitchen & dining', 'home & kitchen', 'computers', 'cameras & accessories', 'health & personal care appliances', 'gaming', 'home improvement', 'others']\n",
        "print(len(class_names))\n",
        "print(classification_report(Y_test, y_pred, target_names=class_names))"
      ],
      "execution_count": null,
      "outputs": [
        {
          "output_type": "stream",
          "text": [
            "26\n",
            "                                   precision    recall  f1-score   support\n",
            "\n",
            "                         clothing       0.96      0.99      0.98       290\n",
            "                        furniture       0.75      0.86      0.80         7\n",
            "                         footwear       1.00      0.98      0.99        59\n",
            "                     pet supplies       0.00      0.00      0.00         1\n",
            "                pens & stationery       0.67      0.60      0.63        10\n",
            "                 sports & fitness       0.75      0.75      0.75         8\n",
            "         beauty and personal care       0.95      0.95      0.95        38\n",
            "            bags, wallets & belts       0.89      0.80      0.84        10\n",
            "       home decor & festive needs       0.91      0.93      0.92        43\n",
            "                       automotive       0.93      0.98      0.95        43\n",
            "                 tools & hardware       1.00      0.96      0.98        27\n",
            "                  home furnishing       0.97      0.93      0.95        30\n",
            "                        baby care       0.85      0.85      0.85        26\n",
            "            mobiles & accessories       0.90      0.98      0.94        58\n",
            "                          watches       1.00      0.97      0.98        32\n",
            "           toys & school supplies       0.72      0.93      0.81        14\n",
            "                        jewellery       0.99      1.00      0.99       208\n",
            "                       sunglasses       1.00      0.50      0.67         2\n",
            "                 kitchen & dining       0.77      0.89      0.83        27\n",
            "                   home & kitchen       0.00      0.00      0.00         2\n",
            "                        computers       0.97      0.97      0.97        34\n",
            "            cameras & accessories       1.00      1.00      1.00         1\n",
            "health & personal care appliances       1.00      0.25      0.40         4\n",
            "                           gaming       0.00      0.00      0.00         3\n",
            "                 home improvement       1.00      0.60      0.75         5\n",
            "                           others       0.33      0.11      0.17        18\n",
            "\n",
            "                         accuracy                           0.94      1000\n",
            "                        macro avg       0.78      0.72      0.73      1000\n",
            "                     weighted avg       0.93      0.94      0.93      1000\n",
            "\n"
          ],
          "name": "stdout"
        },
        {
          "output_type": "stream",
          "text": [
            "/usr/local/lib/python3.7/dist-packages/sklearn/metrics/_classification.py:1272: UndefinedMetricWarning: Precision and F-score are ill-defined and being set to 0.0 in labels with no predicted samples. Use `zero_division` parameter to control this behavior.\n",
            "  _warn_prf(average, modifier, msg_start, len(result))\n"
          ],
          "name": "stderr"
        }
      ]
    },
    {
      "cell_type": "code",
      "metadata": {
        "id": "tYO2h0q0LP_C"
      },
      "source": [
        ""
      ],
      "execution_count": null,
      "outputs": []
    }
  ]
}