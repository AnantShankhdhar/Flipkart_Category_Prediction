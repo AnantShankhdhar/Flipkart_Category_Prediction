{
  "nbformat": 4,
  "nbformat_minor": 0,
  "metadata": {
    "colab": {
      "name": "LSTM_no_sampling.ipynb",
      "provenance": [],
      "collapsed_sections": [],
      "include_colab_link": true
    },
    "kernelspec": {
      "name": "python3",
      "display_name": "Python 3"
    },
    "language_info": {
      "name": "python"
    },
    "accelerator": "GPU"
  },
  "cells": [
    {
      "cell_type": "markdown",
      "metadata": {
        "id": "view-in-github",
        "colab_type": "text"
      },
      "source": [
        "<a href=\"https://colab.research.google.com/github/AnantShankhdhar/Flipkart_Category_Prediction/blob/master/LSTM_no_sampling.ipynb\" target=\"_parent\"><img src=\"https://colab.research.google.com/assets/colab-badge.svg\" alt=\"Open In Colab\"/></a>"
      ]
    },
    {
      "cell_type": "markdown",
      "metadata": {
        "id": "0XNe9eA1ttoO"
      },
      "source": [
        "# Flipkart category Classification"
      ]
    },
    {
      "cell_type": "markdown",
      "metadata": {
        "id": "JMeDN1-st4EG"
      },
      "source": [
        "In this note we make an attempt to build a classifer model to distinguish different product categories on the basis of the product description. <br>\n",
        "Presently Deep learning based models are delivering the best performance in case of Natural language Processing.<br>\n",
        "In this notebook, I build a deep learning based model using Long Short Term Memory Networks."
      ]
    },
    {
      "cell_type": "markdown",
      "metadata": {
        "id": "aPJCqqjwuK6p"
      },
      "source": [
        "## Import Libraries "
      ]
    },
    {
      "cell_type": "code",
      "metadata": {
        "colab": {
          "base_uri": "https://localhost:8080/"
        },
        "id": "KbziJ_Gwg5VG",
        "outputId": "74343dd5-32a6-479e-ec3b-95ce42a359df"
      },
      "source": [
        "import gensim.models.keyedvectors as word2vec #need to use due to depreceated model\n",
        "from nltk.tokenize import RegexpTokenizer\n",
        "! pip install keras-self-attention\n",
        "import keras\n",
        "from keras_self_attention import SeqSelfAttention\n",
        "from keras.models import Sequential\n",
        "from keras.layers.core import Dense, Dropout\n",
        "from keras.layers.embeddings import Embedding\n",
        "from keras.preprocessing.sequence import pad_sequences\n",
        "from keras.preprocessing.text import Tokenizer\n",
        "from keras.layers import LSTM\n",
        "import tensorflow as tf\n",
        "import numpy as np\n",
        "import pandas as pd\n",
        "import matplotlib.pyplot as plt\n",
        "\n",
        "from sklearn.model_selection import train_test_split\n",
        "from sklearn.metrics import confusion_matrix, roc_curve,  roc_auc_score, classification_report\n",
        "\n",
        "\n",
        "import logging\n"
      ],
      "execution_count": null,
      "outputs": [
        {
          "output_type": "stream",
          "text": [
            "Requirement already satisfied: keras-self-attention in /usr/local/lib/python3.7/dist-packages (0.49.0)\n",
            "Requirement already satisfied: numpy in /usr/local/lib/python3.7/dist-packages (from keras-self-attention) (1.19.5)\n",
            "Requirement already satisfied: Keras in /usr/local/lib/python3.7/dist-packages (from keras-self-attention) (2.4.3)\n",
            "Requirement already satisfied: scipy>=0.14 in /usr/local/lib/python3.7/dist-packages (from Keras->keras-self-attention) (1.4.1)\n",
            "Requirement already satisfied: h5py in /usr/local/lib/python3.7/dist-packages (from Keras->keras-self-attention) (2.10.0)\n",
            "Requirement already satisfied: pyyaml in /usr/local/lib/python3.7/dist-packages (from Keras->keras-self-attention) (3.13)\n",
            "Requirement already satisfied: six in /usr/local/lib/python3.7/dist-packages (from h5py->Keras->keras-self-attention) (1.15.0)\n"
          ],
          "name": "stdout"
        }
      ]
    },
    {
      "cell_type": "markdown",
      "metadata": {
        "id": "4iqHW-qcxUaz"
      },
      "source": [
        "## DataSet \n",
        "Loading our dataset, and checking out the label distribution of our dataset "
      ]
    },
    {
      "cell_type": "code",
      "metadata": {
        "colab": {
          "base_uri": "https://localhost:8080/",
          "height": 832
        },
        "id": "VgKohfuFg7TO",
        "outputId": "f674f023-863c-49be-baef-24a2d93e9b4f"
      },
      "source": [
        "%cd drive/MyDrive/MIDAS_task\n",
        "np.random.seed(42)\n",
        "df = pd.read_csv('outfinal1.csv') \n",
        "df.head()\n",
        "weight_list = dict()\n",
        "descriptions = df['description']\n",
        "labels = df['label']\n",
        "labels_count = labels.value_counts()\n",
        "labels_count.plot(kind=\"bar\")\n",
        "print(labels.value_counts())\n",
        "for index,value in labels_count.items():\n",
        "    weight_list[index] = value\n",
        "print(weight_list)"
      ],
      "execution_count": null,
      "outputs": [
        {
          "output_type": "stream",
          "text": [
            "[Errno 2] No such file or directory: 'drive/MyDrive/MIDAS_task'\n",
            "/content/drive/MyDrive/MIDAS_task\n",
            "0     6197\n",
            "16    3531\n",
            "2     1227\n",
            "13    1099\n",
            "9     1012\n",
            "8      929\n",
            "6      710\n",
            "11     699\n",
            "18     647\n",
            "20     578\n",
            "14     530\n",
            "12     483\n",
            "10     391\n",
            "27     342\n",
            "15     330\n",
            "4      313\n",
            "7      265\n",
            "1      180\n",
            "5      166\n",
            "21      82\n",
            "24      81\n",
            "22      43\n",
            "17      40\n",
            "23      35\n",
            "3       30\n",
            "19      24\n",
            "25      19\n",
            "26      15\n",
            "Name: label, dtype: int64\n",
            "{0: 6197, 16: 3531, 2: 1227, 13: 1099, 9: 1012, 8: 929, 6: 710, 11: 699, 18: 647, 20: 578, 14: 530, 12: 483, 10: 391, 27: 342, 15: 330, 4: 313, 7: 265, 1: 180, 5: 166, 21: 82, 24: 81, 22: 43, 17: 40, 23: 35, 3: 30, 19: 24, 25: 19, 26: 15}\n"
          ],
          "name": "stdout"
        },
        {
          "output_type": "display_data",
          "data": {
            "image/png": "[encoded data removed]",
            "text/plain": [
              "<Figure size 432x288 with 1 Axes>"
            ]
          },
          "metadata": {
            "tags": [],
            "needs_background": "light"
          }
        }
      ]
    },
    {
      "cell_type": "markdown",
      "metadata": {
        "id": "p44yJW6ZzCAd"
      },
      "source": [
        "## Tokenizing "
      ]
    },
    {
      "cell_type": "code",
      "metadata": {
        "colab": {
          "base_uri": "https://localhost:8080/"
        },
        "id": "nGBM9SbohDWW",
        "outputId": "1e5bd58d-d2c6-4953-8e0c-e428016f8f2a"
      },
      "source": [
        "description_split = []\n",
        "tkr = RegexpTokenizer('[a-zA-Z@]+')\n",
        "for i, line in enumerate(descriptions):\n",
        "    #print(line)\n",
        "    description = str(line)\n",
        "    description = tkr.tokenize(str(description))\n",
        "    description_split.append(description)\n",
        "\n",
        "print(description_split[1])"
      ],
      "execution_count": null,
      "outputs": [
        {
          "output_type": "stream",
          "text": [
            "['fabhomedecor', 'fabric', 'double', 'sofa', 'bed', 'finish', 'color', 'leatherette', 'black', 'mechanism', 'type', 'pull', 'price', 'rs', 'fine', 'deep', 'seating', 'experience', 'save', 'space', 'new', 'click', 'clack', 'sofa', 'bed', 'easy', 'fold', 'vice', 'versa', 'simple', 'click', 'clack', 'mechanism', 'chrome', 'leg', 'mango', 'wood', 'frame', 'long', 'term', 'durability', 'double', 'cushioned', 'sofa', 'bed', 'provide', 'extra', 'softness', 'make', 'fine', 'seating', 'experience', 'double', 'bed', 'easily', 'sleep', 'twospecification', 'fabhomedecor', 'fabric', 'double', 'sofa', 'bed', 'finish', 'color', 'leatherette', 'black', 'mechanism', 'type', 'pull', 'installation', 'demo', 'installation', 'demo', 'detail', 'installation', 'demo', 'product', 'do', 'free', 'cost', 'part', 'purchase', 'service', 'partner', 'visit', 'location', 'within', 'business', 'hour', 'delivery', 'product', 'box', 'sofa', 'bed', 'general', 'brand', 'fabhomedecor', 'mattress', 'include', 'delivery', 'condition', 'knock', 'storage', 'include', 'mechanism', 'type', 'pull', 'type', 'sofa', 'bed', 'style', 'contemporary', 'modern', 'filling', 'material', 'microfiber', 'seating', 'capacity', 'seater', 'upholstery', 'type', 'upholstery', 'include', 'bed', 'size', 'double', 'shape', 'square', 'suitable', 'living', 'room', 'model', 'number', 'fhd', 'instruction', 'avoid', 'outdoor', 'use', 'exposure', 'water', 'prolong', 'moisture', 'avoid', 'exposure', 'direct', 'heat', 'sunlight', 'cause', 'sofa', 'colour', 'fade', 'keep', 'sharp', 'object', 'away', 'sofa', 'little', 'tear', 'fabric', 'cover', 'may', 'hard', 'repair', 'vacuum', 'sofas', 'periodically', 'soft', 'bristled', 'bruview', 'avoid', 'outdoor', 'use', 'exposure', 'water', 'prolong', 'moisture', 'avoid', 'exposure', 'direct', 'heat', 'sunlight', 'cause', 'sofa', 'colour', 'fade', 'keep', 'sharp', 'object', 'away', 'sofa', 'little', 'tear', 'fabric', 'cover', 'may', 'hard', 'repair', 'vacuum', 'sofas', 'periodically', 'soft', 'bristled', 'brush', 'attachment', 'lightly', 'brush', 'keep', 'general', 'dirt', 'dust', 'sofa', 'prevent', 'embed', 'fibre', 'try', 'avoid', 'food', 'drink', 'spillage', 'kind', 'spill', 'occur', 'leave', 'unattended', 'case', 'stain', 'waterfree', 'fabric', 'cleaner', 'use', 'however', 'avoid', 'apply', 'cleaner', 'directly', 'stain', 'cause', 'damage', 'fabric', 'fade', 'colour', 'clean', 'onto', 'clean', 'cloth', 'test', 'effect', 'hide', 'area', 'sofa', 'cleaning', 'stain', 'cloth', 'professional', 'scotchguard', 'treatment', 'easy', 'effective', 'option', 'protect', 'spill', 'stain', 'keep', 'hair', 'bay', 'get', 'sofa', 'professionally', 'clean', 'every', 'month', 'nook', 'corner', 'ca', 'nt', 'reach', 'make', 'durable', 'finish', 'type', 'matte', 'important', 'note', 'cancellation', 'allow', 'product', 'hrs', 'order', 'book', 'warranty', 'cover', 'warranty', 'warranty', 'cover', 'kind', 'manufacture', 'defect', 'concerned', 'product', 'either', 'repair', 'replace', 'base', 'discretion', 'service', 'type', 'manufacturer', 'warranty', 'warranty', 'summary', 'month', 'domestic', 'warranty', 'cover', 'warranty', 'warranty', 'cover', 'improper', 'handling', 'dimension', 'weight', 'kg', 'height', 'mm', 'width', 'mm', 'depth', 'mm', 'disclaimer', 'color', 'product', 'may', 'vary', 'slightly', 'compare', 'picture', 'display', 'screen', 'due', 'lighting', 'pixel', 'quality', 'color', 'setting', 'please', 'check', 'product', 'dimension', 'ensure', 'product', 'fit', 'desire', 'location', 'check', 'product', 'fit', 'throughview', 'color', 'product', 'may', 'vary', 'slightly', 'compare', 'picture', 'display', 'screen', 'due', 'lighting', 'pixel', 'quality', 'color', 'setting', 'please', 'check', 'product', 'dimension', 'ensure', 'product', 'fit', 'desire', 'location', 'check', 'product', 'fit', 'entrance', 'door', 'premise', 'please', 'expect', 'unevenness', 'mm', 'product', 'due', 'difference', 'surface', 'floor', 'level', 'flipkart', 'seller', 'deliver', 'product', 'type', 'civil', 'work', 'drilling', 'hole', 'wall', 'mount', 'product', 'product', 'assemble', 'case', 'carpentry', 'assembly', 'require', 'case', 'product', 'appear', 'lack', 'shine', 'wipe', 'surface', 'cloth', 'help', 'clear', 'surface', 'dust', 'particle', 'material', 'color', 'upholstery', 'color', 'leatherette', 'black', 'primary', 'color', 'black', 'primary', 'material', 'fabric', 'secondary', 'material', 'subtype', 'mango', 'wood', 'secondary', 'material', 'foam', 'finish', 'color', 'leatherette', 'black', 'primary', 'material', 'subtype', 'foam']\n"
          ],
          "name": "stdout"
        }
      ]
    },
    {
      "cell_type": "markdown",
      "metadata": {
        "id": "6JJNxumnz5s6"
      },
      "source": [
        "## Vectorization \n",
        "Since we know that Deep Learning models can only take numbers, so we need get a numerical representation of the words, this process is called vectorization. <br>\n",
        "One can train their own vectors from their dataset, but because we don't have very vast amount of data, I am going for using pretrained word2vec vectors which has more than 3 million word vectors. "
      ]
    },
    {
      "cell_type": "markdown",
      "metadata": {
        "id": "Xsh69LJD29Nu"
      },
      "source": [
        "## Building the Model \n",
        "Here I am designing a model which used word2vec for embedding layer, and LSTM layer because text can be represented as a time series, and LSTM workes best in modeling a time seroies. <br>\n",
        "Finally we have the Fully Connected Layer, which is usef for classification into categories.\n"
      ]
    },
    {
      "cell_type": "code",
      "metadata": {
        "colab": {
          "base_uri": "https://localhost:8080/"
        },
        "id": "rP3MXzfDpfzu",
        "outputId": "0031725a-fa5b-44ae-a060-913effe0dfa3"
      },
      "source": [
        "w2vModel = word2vec.KeyedVectors.load_word2vec_format('GoogleNews-vectors-negative300.bin', binary=True, limit=100000) \n",
        "tokenizer = Tokenizer() \n",
        "tokenizer.fit_on_texts(description_split)\n",
        "X = tokenizer.texts_to_sequences(description_split)\n",
        "\n",
        "MAX_LENGTH = 300\n",
        "\n",
        "#add padding\n",
        "X = pad_sequences(X, maxlen=MAX_LENGTH) \n",
        "\n",
        "print(X.shape)\n",
        "\n",
        "#create a embedding layer using Google pre triained word2vec (50000 words)\n",
        "embedding_layer = Embedding(input_dim=w2vModel.syn0.shape[0], output_dim=w2vModel.syn0.shape[1], weights=[w2vModel.syn0], input_length=X.shape[1])\n",
        "\n",
        "model = Sequential()\n",
        "model.add(embedding_layer)\n",
        "model.add(LSTM(units=300))\n",
        "model.add(Dense(28, activation='softmax'))\n",
        "model.compile(loss='SparseCategoricalCrossentropy', optimizer='adam', metrics=['accuracy'])\n",
        "print(model.summary())"
      ],
      "execution_count": null,
      "outputs": [
        {
          "output_type": "stream",
          "text": [
            "(19998, 300)\n"
          ],
          "name": "stdout"
        },
        {
          "output_type": "stream",
          "text": [
            "/usr/local/lib/python3.7/dist-packages/ipykernel_launcher.py:14: DeprecationWarning: Call to deprecated `syn0` (Attribute will be removed in 4.0.0, use self.wv.vectors instead).\n",
            "  \n"
          ],
          "name": "stderr"
        },
        {
          "output_type": "stream",
          "text": [
            "Model: \"sequential_14\"\n",
            "_________________________________________________________________\n",
            "Layer (type)                 Output Shape              Param #   \n",
            "=================================================================\n",
            "embedding_14 (Embedding)     (None, 300, 300)          30000000  \n",
            "_________________________________________________________________\n",
            "lstm_14 (LSTM)               (None, 300)               721200    \n",
            "_________________________________________________________________\n",
            "dense_12 (Dense)             (None, 28)                8428      \n",
            "=================================================================\n",
            "Total params: 30,729,628\n",
            "Trainable params: 30,729,628\n",
            "Non-trainable params: 0\n",
            "_________________________________________________________________\n",
            "None\n"
          ],
          "name": "stdout"
        }
      ]
    },
    {
      "cell_type": "markdown",
      "metadata": {
        "id": "M6gUHt_x4KmP"
      },
      "source": [
        "## Train-Test-Validation Spllit "
      ]
    },
    {
      "cell_type": "code",
      "metadata": {
        "id": "D0Nw5YfYhMTe",
        "colab": {
          "base_uri": "https://localhost:8080/"
        },
        "outputId": "57a50005-d7bb-471d-edd2-e433896c6d32"
      },
      "source": [
        "X_train, X_test, Y_train, Y_test = train_test_split(X, labels, test_size= 0.1, random_state = 24)\n",
        "X_val, X_test, Y_val, Y_test = train_test_split(X_test,Y_test,test_size = 0.5, random_state = 24)\n",
        "\n",
        "X_val.shape"
      ],
      "execution_count": null,
      "outputs": [
        {
          "output_type": "execute_result",
          "data": {
            "text/plain": [
              "(1000, 300)"
            ]
          },
          "metadata": {
            "tags": []
          },
          "execution_count": 32
        }
      ]
    },
    {
      "cell_type": "markdown",
      "metadata": {
        "id": "ZG1yhp0J4oin"
      },
      "source": [
        "## Training the model\n"
      ]
    },
    {
      "cell_type": "code",
      "metadata": {
        "id": "PhLA2k2ahPRv",
        "colab": {
          "base_uri": "https://localhost:8080/"
        },
        "outputId": "cc4b22bb-7554-477e-c22f-e9fb742cc598"
      },
      "source": [
        "batch_size = 32\n",
        "checkpoint_filepath = 'model_LSTM.h5'\n",
        "model_checkpoint_callback = tf.keras.callbacks.ModelCheckpoint(\n",
        "    filepath=checkpoint_filepath,\n",
        "    save_weights_only=True,\n",
        "    monitor='val_accuracy',\n",
        "    mode='max',\n",
        "    save_best_only=True)\n",
        "model.fit(X_train, Y_train, epochs=10, verbose=1, batch_size=batch_size,callbacks = [model_checkpoint_callback],validation_data = (X_val,Y_val))"
      ],
      "execution_count": null,
      "outputs": [
        {
          "output_type": "stream",
          "text": [
            "Epoch 1/10\n",
            "563/563 [==============================] - 171s 302ms/step - loss: 1.4158 - accuracy: 0.6278 - val_loss: 0.5287 - val_accuracy: 0.8570\n",
            "Epoch 2/10\n",
            "563/563 [==============================] - 167s 297ms/step - loss: 0.3585 - accuracy: 0.9037 - val_loss: 0.2834 - val_accuracy: 0.9370\n",
            "Epoch 3/10\n",
            "563/563 [==============================] - 165s 293ms/step - loss: 0.1960 - accuracy: 0.9463 - val_loss: 0.3144 - val_accuracy: 0.9270\n",
            "Epoch 4/10\n",
            "563/563 [==============================] - 164s 291ms/step - loss: 0.1129 - accuracy: 0.9680 - val_loss: 0.2853 - val_accuracy: 0.9340\n",
            "Epoch 5/10\n",
            "563/563 [==============================] - 163s 289ms/step - loss: 0.1002 - accuracy: 0.9716 - val_loss: 0.2362 - val_accuracy: 0.9360\n",
            "Epoch 6/10\n",
            "563/563 [==============================] - 162s 288ms/step - loss: 0.0625 - accuracy: 0.9813 - val_loss: 0.2413 - val_accuracy: 0.9320\n",
            "Epoch 7/10\n",
            "563/563 [==============================] - 162s 288ms/step - loss: 0.0467 - accuracy: 0.9856 - val_loss: 0.2792 - val_accuracy: 0.9350\n",
            "Epoch 8/10\n",
            "563/563 [==============================] - 162s 287ms/step - loss: 0.0353 - accuracy: 0.9885 - val_loss: 0.2781 - val_accuracy: 0.9400\n",
            "Epoch 9/10\n",
            "563/563 [==============================] - 163s 289ms/step - loss: 0.0309 - accuracy: 0.9896 - val_loss: 0.2946 - val_accuracy: 0.9330\n",
            "Epoch 10/10\n",
            "563/563 [==============================] - 163s 289ms/step - loss: 0.0311 - accuracy: 0.9890 - val_loss: 0.2632 - val_accuracy: 0.9390\n"
          ],
          "name": "stdout"
        },
        {
          "output_type": "execute_result",
          "data": {
            "text/plain": [
              "<tensorflow.python.keras.callbacks.History at 0x7fb83ad9b7d0>"
            ]
          },
          "metadata": {
            "tags": []
          },
          "execution_count": 33
        }
      ]
    },
    {
      "cell_type": "markdown",
      "metadata": {
        "id": "oYfh-dFm5cFY"
      },
      "source": [
        "## Performance Metrics \n",
        "Here the performance metrics that I have used are Accuracy, Precision, Recall and F1 score to generate a classification report "
      ]
    },
    {
      "cell_type": "code",
      "metadata": {
        "id": "nIPT6wVphThg",
        "colab": {
          "base_uri": "https://localhost:8080/"
        },
        "outputId": "6ca6dabd-f449-44e2-d851-60c2024b3311"
      },
      "source": [
        "model.load_weights('model_LSTM.h5')\n",
        "score, acc = model.evaluate(X_test, Y_test, verbose = 1, batch_size=batch_size)\n",
        "y_pred = np.argmax(model.predict(X_test),axis=1)\n",
        "class_names = ['clothing', 'furniture', 'footwear', 'pet supplies', 'pens & stationery', 'sports & fitness', 'beauty and personal care', 'bags, wallets & belts', 'home decor & festive needs', 'automotive', 'tools & hardware', 'home furnishing', 'baby care', 'mobiles & accessories', 'watches', 'toys & school supplies', 'jewellery', 'sunglasses', 'kitchen & dining', 'home & kitchen', 'computers', 'cameras & accessories', 'health & personal care appliances', 'gaming', 'home improvement', 'home entertainment','e-books', 'others']\n",
        "print(len(class_names))\n",
        "print(classification_report(Y_test, y_pred, target_names=class_names))"
      ],
      "execution_count": null,
      "outputs": [
        {
          "output_type": "stream",
          "text": [
            "32/32 [==============================] - 1s 16ms/step - loss: 0.2516 - accuracy: 0.9430\n",
            "28\n",
            "                                   precision    recall  f1-score   support\n",
            "\n",
            "                         clothing       0.97      0.98      0.98       290\n",
            "                        furniture       0.86      0.86      0.86         7\n",
            "                         footwear       1.00      0.97      0.98        59\n",
            "                     pet supplies       0.00      0.00      0.00         1\n",
            "                pens & stationery       0.80      0.80      0.80        10\n",
            "                 sports & fitness       0.88      0.88      0.88         8\n",
            "         beauty and personal care       0.95      0.92      0.93        38\n",
            "            bags, wallets & belts       0.82      0.90      0.86        10\n",
            "       home decor & festive needs       0.93      0.95      0.94        43\n",
            "                       automotive       0.95      0.98      0.97        43\n",
            "                 tools & hardware       0.96      0.93      0.94        27\n",
            "                  home furnishing       0.93      0.93      0.93        30\n",
            "                        baby care       0.89      0.92      0.91        26\n",
            "            mobiles & accessories       0.96      0.93      0.95        58\n",
            "                          watches       1.00      0.91      0.95        32\n",
            "           toys & school supplies       0.73      0.79      0.76        14\n",
            "                        jewellery       0.99      1.00      0.99       208\n",
            "                       sunglasses       1.00      1.00      1.00         2\n",
            "                 kitchen & dining       0.86      0.93      0.89        27\n",
            "                   home & kitchen       0.50      0.50      0.50         2\n",
            "                        computers       0.97      0.97      0.97        34\n",
            "            cameras & accessories       0.50      1.00      0.67         1\n",
            "health & personal care appliances       1.00      0.75      0.86         4\n",
            "                           gaming       0.75      1.00      0.86         3\n",
            "                 home improvement       1.00      0.80      0.89         5\n",
            "               home entertainment       0.00      0.00      0.00         0\n",
            "                          e-books       0.00      0.00      0.00         0\n",
            "                           others       0.20      0.11      0.14        18\n",
            "\n",
            "                         accuracy                           0.94      1000\n",
            "                        macro avg       0.76      0.77      0.76      1000\n",
            "                     weighted avg       0.94      0.94      0.94      1000\n",
            "\n"
          ],
          "name": "stdout"
        },
        {
          "output_type": "stream",
          "text": [
            "/usr/local/lib/python3.7/dist-packages/sklearn/metrics/_classification.py:1272: UndefinedMetricWarning: Recall and F-score are ill-defined and being set to 0.0 in labels with no true samples. Use `zero_division` parameter to control this behavior.\n",
            "  _warn_prf(average, modifier, msg_start, len(result))\n"
          ],
          "name": "stderr"
        }
      ]
    },
    {
      "cell_type": "code",
      "metadata": {
        "id": "t60lxajL--UX"
      },
      "source": [
        ""
      ],
      "execution_count": null,
      "outputs": []
    }
  ]
}